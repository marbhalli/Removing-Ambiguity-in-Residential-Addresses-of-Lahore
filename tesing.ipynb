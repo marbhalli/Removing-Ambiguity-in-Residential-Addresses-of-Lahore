{
 "cells": [
  {
   "cell_type": "code",
   "execution_count": 1,
   "id": "25640c02",
   "metadata": {},
   "outputs": [],
   "source": [
    "import address_to_geo_coordinates"
   ]
  },
  {
   "cell_type": "code",
   "execution_count": 7,
   "id": "b591b8bb",
   "metadata": {},
   "outputs": [
    {
     "name": "stdout",
     "output_type": "stream",
     "text": [
      "address: 118-L DHA RAHBAR phase 2\n",
      "house: 118\n",
      "block: l\n",
      "locality: dha rahbar phase 2\n",
      "prediction: 118,l,dha rahbar phase 2\n",
      "geo coordinates:[74.27708655 31.38661423]\n",
      "accuracy: accurate upto house\n",
      "zameen url: https://www.zameen.com/plotfinder/Lahore-28/DHA-Rahbar-2842/1009070\n"
     ]
    }
   ],
   "source": [
    "address_to_geo_coordinates.single_address('118-L DHA RAHBAR phase 2')"
   ]
  },
  {
   "cell_type": "code",
   "execution_count": null,
   "id": "ec4775f7",
   "metadata": {},
   "outputs": [],
   "source": []
  }
 ],
 "metadata": {
  "kernelspec": {
   "display_name": "Python 3 (ipykernel)",
   "language": "python",
   "name": "python3"
  },
  "language_info": {
   "codemirror_mode": {
    "name": "ipython",
    "version": 3
   },
   "file_extension": ".py",
   "mimetype": "text/x-python",
   "name": "python",
   "nbconvert_exporter": "python",
   "pygments_lexer": "ipython3",
   "version": "3.8.8"
  }
 },
 "nbformat": 4,
 "nbformat_minor": 5
}
